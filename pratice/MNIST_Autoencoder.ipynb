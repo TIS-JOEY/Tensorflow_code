{
 "cells": [
  {
   "cell_type": "markdown",
   "metadata": {},
   "source": [
    "### 載入MNIST手寫數字數據集"
   ]
  },
  {
   "cell_type": "code",
   "execution_count": 1,
   "metadata": {},
   "outputs": [
    {
     "name": "stderr",
     "output_type": "stream",
     "text": [
      "/anaconda3/lib/python3.6/site-packages/h5py/__init__.py:36: FutureWarning: Conversion of the second argument of issubdtype from `float` to `np.floating` is deprecated. In future, it will be treated as `np.float64 == np.dtype(float).type`.\n",
      "  from ._conv import register_converters as _register_converters\n"
     ]
    },
    {
     "name": "stdout",
     "output_type": "stream",
     "text": [
      "Extracting MNIST_data/train-images-idx3-ubyte.gz\n",
      "Extracting MNIST_data/train-labels-idx1-ubyte.gz\n",
      "Extracting MNIST_data/t10k-images-idx3-ubyte.gz\n",
      "Extracting MNIST_data/t10k-labels-idx1-ubyte.gz\n"
     ]
    }
   ],
   "source": [
    "from tensorflow.examples.tutorials.mnist import input_data\n",
    "\n",
    "mnist = input_data.read_data_sets(\"MNIST_data/\",one_hot = True)"
   ]
  },
  {
   "cell_type": "code",
   "execution_count": 2,
   "metadata": {},
   "outputs": [],
   "source": [
    "import tensorflow as tf"
   ]
  },
  {
   "cell_type": "markdown",
   "metadata": {},
   "source": [
    "### 定義神經網路函式"
   ]
  },
  {
   "cell_type": "code",
   "execution_count": 3,
   "metadata": {},
   "outputs": [],
   "source": [
    "def weight_variable(shape,name):\n",
    "    return tf.Variable(tf.truncated_normal(shape,stddev = 0.1),name = name)\n",
    "\n",
    "def bias_variable(shape,name):\n",
    "    return tf.Variable(tf.constant(0.1,shape = shape),name = name)"
   ]
  },
  {
   "cell_type": "markdown",
   "metadata": {},
   "source": [
    "### 定義變數"
   ]
  },
  {
   "cell_type": "code",
   "execution_count": 4,
   "metadata": {},
   "outputs": [],
   "source": [
    "X = tf.placeholder(tf.float32,[None,784])"
   ]
  },
  {
   "cell_type": "markdown",
   "metadata": {},
   "source": [
    "### 定義模型"
   ]
  },
  {
   "cell_type": "markdown",
   "metadata": {},
   "source": [
    "#### 第一層(encoding)"
   ]
  },
  {
   "cell_type": "code",
   "execution_count": 5,
   "metadata": {},
   "outputs": [],
   "source": [
    "w1 = weight_variable([784,300],'w1')\n",
    "b1 = bias_variable([300],'b1')\n",
    "o1 = tf.nn.relu(tf.matmul(X,w1)+b1)"
   ]
  },
  {
   "cell_type": "markdown",
   "metadata": {},
   "source": [
    "#### 第二層(encoding)"
   ]
  },
  {
   "cell_type": "code",
   "execution_count": 6,
   "metadata": {},
   "outputs": [],
   "source": [
    "w2 = weight_variable([300,100],'w2')\n",
    "b2 = bias_variable([100],'b2')\n",
    "o2 = tf.nn.relu(tf.matmul(o1,w2)+b2)"
   ]
  },
  {
   "cell_type": "markdown",
   "metadata": {},
   "source": [
    "#### 第三層(code layer)"
   ]
  },
  {
   "cell_type": "code",
   "execution_count": 7,
   "metadata": {},
   "outputs": [],
   "source": [
    "w3 = weight_variable([100,20],'w3')\n",
    "b3 = bias_variable([20],'b3')\n",
    "o3 = tf.nn.relu(tf.matmul(o2,w3)+b3)"
   ]
  },
  {
   "cell_type": "markdown",
   "metadata": {},
   "source": [
    "#### 第一層(decoding)"
   ]
  },
  {
   "cell_type": "code",
   "execution_count": 8,
   "metadata": {},
   "outputs": [],
   "source": [
    "w4 = weight_variable([20,100],'w4')\n",
    "b4 = bias_variable([100],'b4')\n",
    "o4 = tf.nn.relu(tf.matmul(o3,w4)+b4)"
   ]
  },
  {
   "cell_type": "markdown",
   "metadata": {},
   "source": [
    "#### 第二層(decoding)"
   ]
  },
  {
   "cell_type": "code",
   "execution_count": 9,
   "metadata": {},
   "outputs": [],
   "source": [
    "w5 = weight_variable([100,300],'w5')\n",
    "b5 = bias_variable([300],'b5')\n",
    "o5 = tf.nn.relu(tf.matmul(o4,w5)+b5)"
   ]
  },
  {
   "cell_type": "markdown",
   "metadata": {},
   "source": [
    "#### 第三層(decoding)"
   ]
  },
  {
   "cell_type": "code",
   "execution_count": 10,
   "metadata": {},
   "outputs": [],
   "source": [
    "w6 = weight_variable([300,784],'w6')\n",
    "b6 = bias_variable([784],'b6')\n",
    "o6 = tf.nn.relu(tf.matmul(o5,w6)+b6)"
   ]
  },
  {
   "cell_type": "markdown",
   "metadata": {},
   "source": [
    "#### 損失函數與優化器"
   ]
  },
  {
   "cell_type": "code",
   "execution_count": 11,
   "metadata": {},
   "outputs": [],
   "source": [
    "loss = tf.reduce_mean(tf.pow(o6-X,2))\n",
    "opt = tf.train.RMSPropOptimizer(0.01).minimize(loss)"
   ]
  },
  {
   "cell_type": "markdown",
   "metadata": {},
   "source": [
    "### 儲存器"
   ]
  },
  {
   "cell_type": "code",
   "execution_count": 12,
   "metadata": {},
   "outputs": [],
   "source": [
    "def savemodel(sess):\n",
    "    import os\n",
    "    curr_pos = os.getcwd()\n",
    "    if 'model' not in os.listdir():\n",
    "        os.mkdirs('model')\n",
    "    saver = tf.train.Saver()\n",
    "    save_path = saver.save(sess, \"/model/mnist_autoencoder.ckpt\")\n",
    "    return save_path"
   ]
  },
  {
   "cell_type": "markdown",
   "metadata": {},
   "source": [
    "### 實例化執行"
   ]
  },
  {
   "cell_type": "code",
   "execution_count": 13,
   "metadata": {},
   "outputs": [
    {
     "name": "stdout",
     "output_type": "stream",
     "text": [
      "Step:0,Loss:0.13384133577346802\n",
      "Step:1000,Loss:0.04410703480243683\n",
      "Step:2000,Loss:0.03541843220591545\n",
      "Step:3000,Loss:0.03408842906355858\n",
      "Step:4000,Loss:0.034828633069992065\n",
      "Step:5000,Loss:0.03717229887843132\n",
      "Step:6000,Loss:0.0345548540353775\n",
      "Step:7000,Loss:0.03262336552143097\n",
      "Step:8000,Loss:0.030949663370847702\n",
      "Step:9000,Loss:0.03306087851524353\n",
      "Step:10000,Loss:0.030189258977770805\n",
      "Step:11000,Loss:0.029912607744336128\n",
      "Step:12000,Loss:0.03019678220152855\n",
      "Step:13000,Loss:0.03414012864232063\n",
      "Step:14000,Loss:0.030161332339048386\n",
      "Step:15000,Loss:0.036159057170152664\n",
      "Step:16000,Loss:0.03198835998773575\n",
      "Step:17000,Loss:0.03227417916059494\n",
      "Step:18000,Loss:0.03171376883983612\n",
      "Step:19000,Loss:0.03455767780542374\n",
      "Test Accuracy:0.031183602288365364\n"
     ]
    },
    {
     "data": {
      "text/plain": [
       "<matplotlib.figure.Figure at 0x1c260336d8>"
      ]
     },
     "metadata": {},
     "output_type": "display_data"
    },
    {
     "data": {
      "text/plain": [
       "<matplotlib.figure.Figure at 0x11817f860>"
      ]
     },
     "metadata": {},
     "output_type": "display_data"
    },
    {
     "data": {
      "text/plain": [
       "<matplotlib.figure.Figure at 0x1181c8d68>"
      ]
     },
     "metadata": {},
     "output_type": "display_data"
    },
    {
     "data": {
      "text/plain": [
       "<matplotlib.figure.Figure at 0x181d5150b8>"
      ]
     },
     "metadata": {},
     "output_type": "display_data"
    },
    {
     "data": {
      "text/plain": [
       "<matplotlib.figure.Figure at 0x1181ba1d0>"
      ]
     },
     "metadata": {},
     "output_type": "display_data"
    },
    {
     "data": {
      "text/plain": [
       "<matplotlib.figure.Figure at 0x11821a518>"
      ]
     },
     "metadata": {},
     "output_type": "display_data"
    },
    {
     "data": {
      "text/plain": [
       "<matplotlib.figure.Figure at 0x1c29bf9ac8>"
      ]
     },
     "metadata": {},
     "output_type": "display_data"
    },
    {
     "data": {
      "text/plain": [
       "<matplotlib.figure.Figure at 0x1181910b8>"
      ]
     },
     "metadata": {},
     "output_type": "display_data"
    },
    {
     "data": {
      "text/plain": [
       "<matplotlib.figure.Figure at 0x1c29c35898>"
      ]
     },
     "metadata": {},
     "output_type": "display_data"
    },
    {
     "data": {
      "text/plain": [
       "<matplotlib.figure.Figure at 0x1181a1b00>"
      ]
     },
     "metadata": {},
     "output_type": "display_data"
    }
   ],
   "source": [
    "with tf.Session() as sess:\n",
    "    sess.run(tf.global_variables_initializer())\n",
    "    \n",
    "    for step in range(20000):\n",
    "        batchx = mnist.train.next_batch(50)[0]\n",
    "\n",
    "        if step%1000==0:\n",
    "            print(\"Step:{},Loss:{}\".format(step,loss.eval(feed_dict = {X:batchx})))\n",
    "        \n",
    "        sess.run(opt,feed_dict = {X:batchx})\n",
    "    \n",
    "    print(\"Test Accuracy:{}\".format(sess.run(loss,feed_dict = {X:mnist.test.images})))\n",
    "    \n",
    "    # 製圖成果\n",
    "    import numpy as np\n",
    "    import matplotlib.pyplot as plt\n",
    "    \n",
    "    pred_out = o6.eval(feed_dict = {X:mnist.train.images})\n",
    "    \n",
    "    for i in range(5):\n",
    "        curr_img = np.reshape(mnist.train.images[i,:],(28,28))     \n",
    "        pred_img = np.reshape(pred_out[i,:],(28,28))\n",
    "        \n",
    "        plt.matshow(curr_img, cmap = plt.get_cmap('gray'))\n",
    "        plt.matshow(pred_img, cmap = plt.get_cmap('gray'))\n",
    "        \n",
    "        plt.show()"
   ]
  },
  {
   "cell_type": "code",
   "execution_count": null,
   "metadata": {},
   "outputs": [],
   "source": []
  }
 ],
 "metadata": {
  "kernelspec": {
   "display_name": "Python 3",
   "language": "python",
   "name": "python3"
  },
  "language_info": {
   "codemirror_mode": {
    "name": "ipython",
    "version": 3
   },
   "file_extension": ".py",
   "mimetype": "text/x-python",
   "name": "python",
   "nbconvert_exporter": "python",
   "pygments_lexer": "ipython3",
   "version": "3.6.4"
  }
 },
 "nbformat": 4,
 "nbformat_minor": 2
}
