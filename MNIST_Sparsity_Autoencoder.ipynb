{
 "cells": [
  {
   "cell_type": "markdown",
   "metadata": {},
   "source": [
    "### 載入MNIST手寫數字數據集"
   ]
  },
  {
   "cell_type": "code",
   "execution_count": 1,
   "metadata": {},
   "outputs": [
    {
     "name": "stderr",
     "output_type": "stream",
     "text": [
      "/anaconda3/lib/python3.6/site-packages/h5py/__init__.py:36: FutureWarning: Conversion of the second argument of issubdtype from `float` to `np.floating` is deprecated. In future, it will be treated as `np.float64 == np.dtype(float).type`.\n",
      "  from ._conv import register_converters as _register_converters\n"
     ]
    },
    {
     "name": "stdout",
     "output_type": "stream",
     "text": [
      "Extracting MNIST_data/train-images-idx3-ubyte.gz\n",
      "Extracting MNIST_data/train-labels-idx1-ubyte.gz\n",
      "Extracting MNIST_data/t10k-images-idx3-ubyte.gz\n",
      "Extracting MNIST_data/t10k-labels-idx1-ubyte.gz\n"
     ]
    }
   ],
   "source": [
    "from tensorflow.examples.tutorials.mnist import input_data\n",
    "\n",
    "mnist = input_data.read_data_sets(\"MNIST_data/\",one_hot = True)"
   ]
  },
  {
   "cell_type": "code",
   "execution_count": 2,
   "metadata": {},
   "outputs": [],
   "source": [
    "import tensorflow as tf"
   ]
  },
  {
   "cell_type": "markdown",
   "metadata": {},
   "source": [
    "### 定義模型變數生成函式"
   ]
  },
  {
   "cell_type": "code",
   "execution_count": 3,
   "metadata": {},
   "outputs": [],
   "source": [
    "def weight_variable(shape,name):\n",
    "    return tf.Variable(tf.truncated_normal(shape,stddev = 0.1),name = name)\n",
    "\n",
    "def bias_variable(shape,name):\n",
    "    return tf.Variable(tf.constant(0.1,shape = shape),name = name)"
   ]
  },
  {
   "cell_type": "markdown",
   "metadata": {},
   "source": [
    "### 定義輸入"
   ]
  },
  {
   "cell_type": "code",
   "execution_count": 4,
   "metadata": {},
   "outputs": [],
   "source": [
    "X = tf.placeholder(tf.float32,[None,784])"
   ]
  },
  {
   "cell_type": "markdown",
   "metadata": {},
   "source": [
    "### 定義Normal Autoencoder"
   ]
  },
  {
   "cell_type": "code",
   "execution_count": 5,
   "metadata": {},
   "outputs": [],
   "source": [
    "# Encoder\n",
    "w1 = weight_variable([784,300],'encoder_w1')\n",
    "b1 = bias_variable([300],'encoder_b1')\n",
    "o1 = tf.nn.sigmoid(tf.matmul(X,w1)+b1)\n",
    "    \n",
    "w2 = weight_variable([300,30],'encoder_w2')\n",
    "b2 = bias_variable([30],'encoder_b2')\n",
    "o2 = tf.nn.sigmoid(tf.matmul(o1,w2)+b2)\n",
    "    \n",
    " # Decoder\n",
    "w3 = weight_variable([30,300],'decoder_w1')\n",
    "b3 = bias_variable([300],'decoder_b1')\n",
    "o3 = tf.nn.sigmoid(tf.matmul(o2,w3)+b3)\n",
    "    \n",
    "w4 = weight_variable([300,784],'decoder_w2')\n",
    "b4 = bias_variable([784],'decoder_b2')\n",
    "o4 = tf.nn.sigmoid(tf.matmul(o3,w4)+b4)"
   ]
  },
  {
   "cell_type": "markdown",
   "metadata": {},
   "source": [
    "### 定義損失函數與優化器"
   ]
  },
  {
   "cell_type": "markdown",
   "metadata": {},
   "source": [
    "在這邊是與普通的Autoencoder不同的地方：\n",
    "1. 加上Kullback-Leibler divergence來讓平均神經元輸出值越接近某數越好，如此可降低各神經元的輸出值，使各神經元不會對每個圖片都起反應而而無用化。\n",
    "2. 我們還會利用L2正則化來讓權重變小，使整個模型變得較簡單。"
   ]
  },
  {
   "cell_type": "code",
   "execution_count": 6,
   "metadata": {},
   "outputs": [],
   "source": [
    "def kl_div(rho,rho_hat):\n",
    "    invrho = tf.subtract(tf.constant(1.), rho)\n",
    "    invrhohat = tf.subtract(tf.constant(1.),rho_hat)\n",
    "    logrho = logfunc(rho,rho_hat) + logfunc(invrho, invrhohat)\n",
    "    return logrho\n",
    "\n",
    "def logfunc(x1, x2):\n",
    "    return tf.multiply(x1,tf.log(tf.div(x1,x2)))"
   ]
  },
  {
   "cell_type": "code",
   "execution_count": 7,
   "metadata": {},
   "outputs": [],
   "source": [
    "import functools"
   ]
  },
  {
   "cell_type": "code",
   "execution_count": 8,
   "metadata": {},
   "outputs": [],
   "source": [
    "kl_div_loss = functools.reduce(lambda x, y: x + y, map(lambda x: tf.reduce_sum(kl_div(0.02, tf.reduce_mean(x,0))), [o1,o2]))"
   ]
  },
  {
   "cell_type": "code",
   "execution_count": 9,
   "metadata": {},
   "outputs": [],
   "source": [
    "l2_loss = functools.reduce(lambda x, y: x + y, map(lambda x: tf.nn.l2_loss(x), [w1,w2,w3,w4]))"
   ]
  },
  {
   "cell_type": "code",
   "execution_count": 10,
   "metadata": {},
   "outputs": [],
   "source": [
    "alpha = 5e-6\n",
    "beta = 7.5e-5"
   ]
  },
  {
   "cell_type": "code",
   "execution_count": 11,
   "metadata": {},
   "outputs": [],
   "source": [
    "loss = tf.reduce_mean(tf.pow(o4-X,2) + alpha * l2_loss + beta * kl_div_loss)\n",
    "opt = tf.train.AdamOptimizer(0.01).minimize(loss)"
   ]
  },
  {
   "cell_type": "markdown",
   "metadata": {},
   "source": [
    "### 實例化執行"
   ]
  },
  {
   "cell_type": "code",
   "execution_count": 12,
   "metadata": {},
   "outputs": [
    {
     "name": "stdout",
     "output_type": "stream",
     "text": [
      "Step:0,Loss:0.2933363616466522\n",
      "Step:1000,Loss:0.04224457964301109\n",
      "Step:2000,Loss:0.03947719186544418\n",
      "Step:3000,Loss:0.039851706475019455\n",
      "Step:4000,Loss:0.03764984384179115\n",
      "Step:5000,Loss:0.03527306765317917\n",
      "Step:6000,Loss:0.03829438239336014\n",
      "Step:7000,Loss:0.03651284798979759\n",
      "Step:8000,Loss:0.03670467808842659\n",
      "Step:9000,Loss:0.03610767424106598\n",
      "Step:10000,Loss:0.0382281094789505\n",
      "Step:11000,Loss:0.03714229539036751\n",
      "Step:12000,Loss:0.035715408623218536\n",
      "Step:13000,Loss:0.03587040305137634\n",
      "Step:14000,Loss:0.03603891283273697\n",
      "Step:15000,Loss:0.03853045031428337\n",
      "Step:16000,Loss:0.03750507906079292\n",
      "Step:17000,Loss:0.03566473722457886\n",
      "Step:18000,Loss:0.03493707254528999\n",
      "Step:19000,Loss:0.036548107862472534\n",
      "Test Loss:0.035388704389333725\n"
     ]
    },
    {
     "data": {
      "text/plain": [
       "<matplotlib.figure.Figure at 0x112ce2ef0>"
      ]
     },
     "metadata": {},
     "output_type": "display_data"
    },
    {
     "data": {
      "text/plain": [
       "<matplotlib.figure.Figure at 0x1c2576af60>"
      ]
     },
     "metadata": {},
     "output_type": "display_data"
    },
    {
     "data": {
      "text/plain": [
       "<matplotlib.figure.Figure at 0x1c257ba630>"
      ]
     },
     "metadata": {},
     "output_type": "display_data"
    },
    {
     "data": {
      "text/plain": [
       "<matplotlib.figure.Figure at 0x1c2509ceb8>"
      ]
     },
     "metadata": {},
     "output_type": "display_data"
    },
    {
     "data": {
      "text/plain": [
       "<matplotlib.figure.Figure at 0x1c258079e8>"
      ]
     },
     "metadata": {},
     "output_type": "display_data"
    },
    {
     "data": {
      "text/plain": [
       "<matplotlib.figure.Figure at 0x1c2576a9b0>"
      ]
     },
     "metadata": {},
     "output_type": "display_data"
    },
    {
     "data": {
      "text/plain": [
       "<matplotlib.figure.Figure at 0x1c25839908>"
      ]
     },
     "metadata": {},
     "output_type": "display_data"
    },
    {
     "data": {
      "text/plain": [
       "<matplotlib.figure.Figure at 0x1c2509c3c8>"
      ]
     },
     "metadata": {},
     "output_type": "display_data"
    },
    {
     "data": {
      "text/plain": [
       "<matplotlib.figure.Figure at 0x1c2586ddd8>"
      ]
     },
     "metadata": {},
     "output_type": "display_data"
    },
    {
     "data": {
      "text/plain": [
       "<matplotlib.figure.Figure at 0x1c25793ac8>"
      ]
     },
     "metadata": {},
     "output_type": "display_data"
    }
   ],
   "source": [
    "with tf.Session() as sess:\n",
    "    sess.run(tf.global_variables_initializer())\n",
    "    \n",
    "    for step in range(20000):\n",
    "        batchx = mnist.train.next_batch(60)[0]\n",
    "        \n",
    "        if step%1000 == 0:\n",
    "            print(\"Step:{},Loss:{}\".format(step,loss.eval(feed_dict = {X:batchx})))\n",
    "        sess.run(opt,feed_dict = {X:batchx})\n",
    "    \n",
    "    print(\"Test Loss:{}\".format(loss.eval(feed_dict = {X:mnist.test.images})))\n",
    "    \n",
    "    import matplotlib.pyplot as plt\n",
    "    import numpy as np\n",
    "    \n",
    "    predict_output = o4.eval(feed_dict = {X:mnist.train.images})\n",
    "    \n",
    "    for i in range(5):\n",
    "        curr_img = np.reshape(mnist.train.images[i,:],(28,28)) \n",
    "        pre_img = np.reshape(predict_output[i,:],(28,28))\n",
    "        \n",
    "        plt.matshow(curr_img, cmap = plt.get_cmap('gray'))\n",
    "        plt.matshow(pre_img, cmap = plt.get_cmap('gray'))\n",
    "\n",
    "        \n",
    "        plt.show()"
   ]
  },
  {
   "cell_type": "code",
   "execution_count": null,
   "metadata": {},
   "outputs": [],
   "source": []
  }
 ],
 "metadata": {
  "kernelspec": {
   "display_name": "Python 3",
   "language": "python",
   "name": "python3"
  },
  "language_info": {
   "codemirror_mode": {
    "name": "ipython",
    "version": 3
   },
   "file_extension": ".py",
   "mimetype": "text/x-python",
   "name": "python",
   "nbconvert_exporter": "python",
   "pygments_lexer": "ipython3",
   "version": "3.6.4"
  }
 },
 "nbformat": 4,
 "nbformat_minor": 2
}
