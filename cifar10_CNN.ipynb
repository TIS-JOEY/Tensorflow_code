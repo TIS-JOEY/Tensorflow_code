{
 "cells": [
  {
   "cell_type": "markdown",
   "metadata": {},
   "source": [
    "### 載入cifar10"
   ]
  },
  {
   "cell_type": "code",
   "execution_count": 148,
   "metadata": {},
   "outputs": [],
   "source": [
    "from keras.datasets import cifar10\n",
    "import numpy as np\n",
    "import tensorflow as tf\n",
    "\n",
    "(X_train, y_train),(X_test, y_test) = cifar10.load_data()"
   ]
  },
  {
   "cell_type": "markdown",
   "metadata": {},
   "source": [
    "### 預處理"
   ]
  },
  {
   "cell_type": "code",
   "execution_count": 149,
   "metadata": {},
   "outputs": [
    {
     "name": "stdout",
     "output_type": "stream",
     "text": [
      "X_train_shape:(50000, 32, 32, 3),X_test_shape:(10000, 32, 32, 3)\n"
     ]
    }
   ],
   "source": [
    "X_train = X_train.astype('float32')/255.0\n",
    "X_test = X_test.astype('float32')/255.0\n",
    "print(\"X_train_shape:{},X_test_shape:{}\".format(X_train.shape,X_test.shape))\n",
    "\n",
    "import keras\n",
    "y_train = keras.utils.to_categorical(y_train,num_classes = 10)\n",
    "y_test = keras.utils.to_categorical(y_test,num_classes = 10)"
   ]
  },
  {
   "cell_type": "markdown",
   "metadata": {},
   "source": [
    "### 定義模型變數"
   ]
  },
  {
   "cell_type": "code",
   "execution_count": 150,
   "metadata": {},
   "outputs": [],
   "source": [
    "X = tf.placeholder(tf.float32, [None,32,32,3])\n",
    "y_true = tf.placeholder(tf.float32, [None,10])\n",
    "\n",
    "global_step = tf.Variable(initial_value=0, trainable=False, name='global_step')\n",
    "EPOCHS = 4000\n",
    "BATCH_SIZE = 128\n",
    "CURR_POS = 0\n",
    "TOTAL_NUMS = X_train.shape[0]\n",
    "STEPS = TOTAL_NUMS//BATCH_SIZE"
   ]
  },
  {
   "cell_type": "markdown",
   "metadata": {},
   "source": [
    "### 定義模型函式"
   ]
  },
  {
   "cell_type": "code",
   "execution_count": 151,
   "metadata": {},
   "outputs": [],
   "source": [
    "def conv2d(x,w):\n",
    "    return tf.nn.conv2d(x,w,strides = [1,2,2,1],padding = 'SAME')\n",
    "\n",
    "def maxpool2d(x):\n",
    "    return tf.nn.max_pool(x,ksize = [1,2,2,1],strides = [1,2,2,1],padding = 'SAME')\n",
    "\n",
    "def weight_variable(shape, name):\n",
    "    return tf.Variable(tf.truncated_normal(shape = shape,stddev = 0.1),name = name)\n",
    "\n",
    "def bias_variable(shape, name):\n",
    "    return tf.Variable(tf.constant(0.1,shape = shape),name = name)\n",
    "\n",
    "def get_batch():\n",
    "    global BATCH_SIZE,CURR_POS\n",
    "    \n",
    "    if CURR_POS+BATCH_SIZE<TOTAL_NUMS:\n",
    "        batchx,batchy = X_train[CURR_POS:CURR_POS+BATCH_SIZE],y_train[CURR_POS:CURR_POS+BATCH_SIZE]\n",
    "        CURR_POS+=BATCH_SIZE\n",
    "    else:\n",
    "        batchx,batchy = X_train[CURR_POS:],y_train[CURR_POS:]\n",
    "        CURR_POS = 0\n",
    "\n",
    "    return batchx,batchy"
   ]
  },
  {
   "cell_type": "markdown",
   "metadata": {},
   "source": [
    "### 定義模型架構"
   ]
  },
  {
   "cell_type": "markdown",
   "metadata": {},
   "source": [
    "#### 第一層捲基"
   ]
  },
  {
   "cell_type": "code",
   "execution_count": 152,
   "metadata": {},
   "outputs": [],
   "source": [
    "w1 = weight_variable([5,5,3,32],'w1')\n",
    "b1 = bias_variable([32],'b1')\n",
    "conv1 = tf.nn.relu(conv2d(X,w1)+b1)\n",
    "conv1_with_dropout = tf.nn.dropout(conv1,keep_prob)\n",
    "o1 = maxpool2d(conv1_with_dropout)"
   ]
  },
  {
   "cell_type": "markdown",
   "metadata": {},
   "source": [
    "#### 第二層捲基"
   ]
  },
  {
   "cell_type": "code",
   "execution_count": 153,
   "metadata": {},
   "outputs": [],
   "source": [
    "w2 = weight_variable([5,5,32,64],'w2')\n",
    "b2 = bias_variable([64],'b2')\n",
    "conv2 = tf.nn.relu(conv2d(o1,w2)+b2)\n",
    "conv2_with_dropout = tf.nn.dropout(conv2,keep_prob)\n",
    "o2 = maxpool2d(conv2_with_dropout)"
   ]
  },
  {
   "cell_type": "markdown",
   "metadata": {},
   "source": [
    "#### 撫平層"
   ]
  },
  {
   "cell_type": "code",
   "execution_count": 154,
   "metadata": {},
   "outputs": [],
   "source": [
    "fc_in = tf.reshape(o2,[-1,2*2*64])\n",
    "fc_w1 = weight_variable([2*2*64,1024], name = 'fc_w1')\n",
    "fc_b1 = bias_variable([1024], name = 'fc_b1')\n",
    "fc_out1 = tf.nn.relu(tf.matmul(fc_in,fc_w1)+fc_b1)\n",
    "fc_out1_with_dropout = tf.nn.dropout(fc_out1,keep_prob)"
   ]
  },
  {
   "cell_type": "markdown",
   "metadata": {},
   "source": [
    "#### 輸出層"
   ]
  },
  {
   "cell_type": "code",
   "execution_count": 155,
   "metadata": {},
   "outputs": [],
   "source": [
    "fc_w2 = weight_variable([1024,10],name = 'fc_w2')\n",
    "fc_b2 = bias_variable([10],name = 'fc_b2')\n",
    "y_predict = tf.nn.softmax(tf.matmul(fc_out1_with_dropout,fc_w2)+fc_b2)"
   ]
  },
  {
   "cell_type": "markdown",
   "metadata": {},
   "source": [
    "### 損失函數與優化器"
   ]
  },
  {
   "cell_type": "code",
   "execution_count": 156,
   "metadata": {},
   "outputs": [],
   "source": [
    "loss = tf.reduce_mean(tf.nn.softmax_cross_entropy_with_logits_v2(logits = y_predict, labels = y_true))\n",
    "opt = tf.train.AdamOptimizer(0.0001).minimize(loss)\n",
    "\n",
    "correct_prediction = tf.equal(tf.argmax(y_predict,1), tf.argmax(y_true, 1))\n",
    "accuracy = tf.reduce_mean(tf.cast(correct_prediction, tf.float32))"
   ]
  },
  {
   "cell_type": "markdown",
   "metadata": {},
   "source": [
    "### 實例化與執行"
   ]
  },
  {
   "cell_type": "code",
   "execution_count": null,
   "metadata": {},
   "outputs": [
    {
     "name": "stdout",
     "output_type": "stream",
     "text": [
      "Step:0,Accuracy:0.078125\n"
     ]
    }
   ],
   "source": [
    "with tf.Session() as sess:\n",
    "    sess.run(tf.global_variables_initializer())\n",
    "    \n",
    "    for epoch in range(EPOCHS):\n",
    "        for step in range(STEPS):\n",
    "            batchx,batchy = get_batch()\n",
    "            sess.run(opt,feed_dict = {X:batchx, y_true:batchy,keep_prob:0.5})\n",
    "            \n",
    "            if step%1000 == 0:\n",
    "                print(\"Step:{},Accuracy:{}\".format(step,sess.run(accuracy,feed_dict = {X:batchx,y_true:batchy,keep_prob:1.0})))\n",
    "        \n",
    "    print(\"Test accuracy:{}\".format(sess.run(loss,feed_dict = {X:X_test,y_true:y_test,keep_prob:1.0})))"
   ]
  },
  {
   "cell_type": "code",
   "execution_count": null,
   "metadata": {},
   "outputs": [],
   "source": []
  }
 ],
 "metadata": {
  "kernelspec": {
   "display_name": "Python 3",
   "language": "python",
   "name": "python3"
  },
  "language_info": {
   "codemirror_mode": {
    "name": "ipython",
    "version": 3
   },
   "file_extension": ".py",
   "mimetype": "text/x-python",
   "name": "python",
   "nbconvert_exporter": "python",
   "pygments_lexer": "ipython3",
   "version": "3.6.4"
  }
 },
 "nbformat": 4,
 "nbformat_minor": 2
}
