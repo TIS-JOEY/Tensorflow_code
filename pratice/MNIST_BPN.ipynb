{
 "cells": [
  {
   "cell_type": "markdown",
   "metadata": {},
   "source": [
    "#### 載入MNIST手寫數據集，並將標籤轉換成one hot encoding。"
   ]
  },
  {
   "cell_type": "code",
   "execution_count": 43,
   "metadata": {},
   "outputs": [
    {
     "name": "stdout",
     "output_type": "stream",
     "text": [
      "Extracting MNIST_data/train-images-idx3-ubyte.gz\n",
      "Extracting MNIST_data/train-labels-idx1-ubyte.gz\n",
      "Extracting MNIST_data/t10k-images-idx3-ubyte.gz\n",
      "Extracting MNIST_data/t10k-labels-idx1-ubyte.gz\n"
     ]
    }
   ],
   "source": [
    "from tensorflow.examples.tutorials.mnist import input_data\n",
    "\n",
    "mnist = input_data.read_data_sets('MNIST_data/',one_hot = True)"
   ]
  },
  {
   "cell_type": "code",
   "execution_count": 44,
   "metadata": {},
   "outputs": [],
   "source": [
    "import tensorflow as tf"
   ]
  },
  {
   "cell_type": "markdown",
   "metadata": {},
   "source": []
  },
  {
   "cell_type": "markdown",
   "metadata": {},
   "source": [
    "#### 定義輸入輸出形式"
   ]
  },
  {
   "cell_type": "code",
   "execution_count": 45,
   "metadata": {},
   "outputs": [],
   "source": [
    "X = tf.placeholder(tf.float32,[None,784])\n",
    "y_true = tf.placeholder(tf.float32,[None,10])"
   ]
  },
  {
   "cell_type": "code",
   "execution_count": null,
   "metadata": {},
   "outputs": [],
   "source": []
  },
  {
   "cell_type": "markdown",
   "metadata": {},
   "source": [
    "#### 定義變數函式"
   ]
  },
  {
   "cell_type": "code",
   "execution_count": 56,
   "metadata": {},
   "outputs": [],
   "source": [
    "def weight_variable(shape,name):\n",
    "    return tf.Variable(tf.zeros(shape = shape),name)\n",
    "\n",
    "def bias_variable(shape,name):\n",
    "    return tf.Variable(tf.zeros(shape = shape),name)"
   ]
  },
  {
   "cell_type": "code",
   "execution_count": null,
   "metadata": {},
   "outputs": [],
   "source": []
  },
  {
   "cell_type": "markdown",
   "metadata": {},
   "source": [
    "#### 架構模型"
   ]
  },
  {
   "cell_type": "code",
   "execution_count": 65,
   "metadata": {},
   "outputs": [],
   "source": [
    "# 第一層\n",
    "w1 = weight_variable((784,10),'w1')\n",
    "b1 = bias_variable((10,),'b1')\n",
    "y_predict = tf.nn.softmax(tf.matmul(X,w1)+b1)"
   ]
  },
  {
   "cell_type": "code",
   "execution_count": null,
   "metadata": {},
   "outputs": [],
   "source": []
  },
  {
   "cell_type": "markdown",
   "metadata": {},
   "source": [
    "#### 損失函數&優化器"
   ]
  },
  {
   "cell_type": "code",
   "execution_count": 66,
   "metadata": {},
   "outputs": [],
   "source": [
    "loss = tf.nn.softmax_cross_entropy_with_logits(logits = y_predict,labels = y_true)\n",
    "opt = tf.train.AdamOptimizer(0.01).minimize(loss)\n",
    "\n",
    "correct_predict = tf.equal(tf.argmax(y_true,1),tf.argmax(y_predict,1))\n",
    "acc = tf.reduce_mean(tf.cast(correct_predict,tf.float32))"
   ]
  },
  {
   "cell_type": "markdown",
   "metadata": {},
   "source": []
  },
  {
   "cell_type": "markdown",
   "metadata": {},
   "source": [
    "#### 實例化執行"
   ]
  },
  {
   "cell_type": "code",
   "execution_count": 67,
   "metadata": {},
   "outputs": [
    {
     "name": "stdout",
     "output_type": "stream",
     "text": [
      "Step:0,Accuracy:0.12999999523162842\n",
      "Step:100,Accuracy:0.8799999952316284\n",
      "Step:200,Accuracy:0.9200000166893005\n",
      "Step:300,Accuracy:0.9100000262260437\n",
      "Step:400,Accuracy:0.8799999952316284\n",
      "Step:500,Accuracy:0.949999988079071\n",
      "Step:600,Accuracy:0.8799999952316284\n",
      "Step:700,Accuracy:0.8799999952316284\n",
      "Step:800,Accuracy:0.9300000071525574\n",
      "Step:900,Accuracy:0.9100000262260437\n",
      "Step:1000,Accuracy:0.9300000071525574\n",
      "Step:1100,Accuracy:0.9300000071525574\n",
      "Step:1200,Accuracy:0.8999999761581421\n",
      "Step:1300,Accuracy:0.8700000047683716\n",
      "Step:1400,Accuracy:0.8999999761581421\n",
      "Step:1500,Accuracy:0.9200000166893005\n",
      "Step:1600,Accuracy:0.9200000166893005\n",
      "Step:1700,Accuracy:0.949999988079071\n",
      "Step:1800,Accuracy:0.9599999785423279\n",
      "Step:1900,Accuracy:0.9200000166893005\n",
      "Step:2000,Accuracy:0.9100000262260437\n",
      "Step:2100,Accuracy:0.949999988079071\n",
      "Step:2200,Accuracy:0.8999999761581421\n",
      "Step:2300,Accuracy:0.949999988079071\n",
      "Step:2400,Accuracy:0.8899999856948853\n",
      "Step:2500,Accuracy:0.9700000286102295\n",
      "Step:2600,Accuracy:0.9100000262260437\n",
      "Step:2700,Accuracy:0.9300000071525574\n",
      "Step:2800,Accuracy:0.9200000166893005\n",
      "Step:2900,Accuracy:0.949999988079071\n",
      "Step:3000,Accuracy:0.9200000166893005\n",
      "Step:3100,Accuracy:0.9100000262260437\n",
      "Step:3200,Accuracy:0.9100000262260437\n",
      "Step:3300,Accuracy:0.9399999976158142\n",
      "Step:3400,Accuracy:0.9599999785423279\n",
      "Step:3500,Accuracy:0.9300000071525574\n",
      "Step:3600,Accuracy:0.9700000286102295\n",
      "Step:3700,Accuracy:0.9200000166893005\n",
      "Step:3800,Accuracy:0.9200000166893005\n",
      "Step:3900,Accuracy:0.9399999976158142\n",
      "Step:4000,Accuracy:0.9200000166893005\n",
      "Step:4100,Accuracy:0.9200000166893005\n",
      "Step:4200,Accuracy:0.9900000095367432\n",
      "Step:4300,Accuracy:0.9399999976158142\n",
      "Step:4400,Accuracy:0.8899999856948853\n",
      "Step:4500,Accuracy:0.9100000262260437\n",
      "Step:4600,Accuracy:0.9300000071525574\n",
      "Step:4700,Accuracy:0.9599999785423279\n",
      "Step:4800,Accuracy:0.9300000071525574\n",
      "Step:4900,Accuracy:0.9599999785423279\n",
      "Step:5000,Accuracy:0.9300000071525574\n",
      "Step:5100,Accuracy:0.9300000071525574\n",
      "Step:5200,Accuracy:0.9399999976158142\n",
      "Step:5300,Accuracy:0.9700000286102295\n",
      "Step:5400,Accuracy:0.9599999785423279\n",
      "Step:5500,Accuracy:0.9200000166893005\n",
      "Step:5600,Accuracy:0.9399999976158142\n",
      "Step:5700,Accuracy:0.9399999976158142\n",
      "Step:5800,Accuracy:0.9800000190734863\n",
      "Step:5900,Accuracy:0.9399999976158142\n",
      "Step:6000,Accuracy:0.9700000286102295\n",
      "Step:6100,Accuracy:0.9200000166893005\n",
      "Step:6200,Accuracy:0.9300000071525574\n",
      "Step:6300,Accuracy:0.9599999785423279\n",
      "Step:6400,Accuracy:0.949999988079071\n",
      "Step:6500,Accuracy:0.9399999976158142\n",
      "Step:6600,Accuracy:0.9599999785423279\n",
      "Step:6700,Accuracy:0.9700000286102295\n",
      "Step:6800,Accuracy:0.9200000166893005\n",
      "Step:6900,Accuracy:0.9300000071525574\n",
      "Step:7000,Accuracy:0.9100000262260437\n",
      "Step:7100,Accuracy:0.949999988079071\n",
      "Step:7200,Accuracy:0.9399999976158142\n",
      "Step:7300,Accuracy:0.9100000262260437\n",
      "Step:7400,Accuracy:0.9200000166893005\n",
      "Step:7500,Accuracy:0.9599999785423279\n",
      "Step:7600,Accuracy:0.9300000071525574\n",
      "Step:7700,Accuracy:0.9599999785423279\n",
      "Step:7800,Accuracy:0.9399999976158142\n",
      "Step:7900,Accuracy:0.9599999785423279\n",
      "Step:8000,Accuracy:0.9300000071525574\n",
      "Step:8100,Accuracy:0.9200000166893005\n",
      "Step:8200,Accuracy:0.9300000071525574\n",
      "Step:8300,Accuracy:0.9200000166893005\n",
      "Step:8400,Accuracy:0.9200000166893005\n",
      "Step:8500,Accuracy:0.9599999785423279\n",
      "Step:8600,Accuracy:0.9599999785423279\n",
      "Step:8700,Accuracy:0.9300000071525574\n",
      "Step:8800,Accuracy:0.9399999976158142\n",
      "Step:8900,Accuracy:0.9100000262260437\n",
      "Step:9000,Accuracy:0.9200000166893005\n",
      "Step:9100,Accuracy:0.9399999976158142\n",
      "Step:9200,Accuracy:0.9200000166893005\n",
      "Step:9300,Accuracy:0.9300000071525574\n",
      "Step:9400,Accuracy:0.9900000095367432\n",
      "Step:9500,Accuracy:0.9399999976158142\n",
      "Step:9600,Accuracy:0.8899999856948853\n",
      "Step:9700,Accuracy:0.9200000166893005\n",
      "Step:9800,Accuracy:0.9399999976158142\n",
      "Step:9900,Accuracy:0.9700000286102295\n",
      "Test Acc:0.9302999973297119\n"
     ]
    }
   ],
   "source": [
    "with tf.Session() as sess:\n",
    "    sess.run(tf.global_variables_initializer())\n",
    "    \n",
    "    for step in range(10000):\n",
    "        batch_x,batch_y = mnist.train.next_batch(100)\n",
    "        \n",
    "        if step%100==0:\n",
    "            print(\"Step:{},Accuracy:{}\".format(step,sess.run(acc,feed_dict = {X:batch_x,y_true:batch_y})))\n",
    "        \n",
    "        sess.run(opt,feed_dict = {X:batch_x,y_true:batch_y})\n",
    "    \n",
    "    print(\"Test Acc:{}\".format(sess.run(acc,feed_dict = {X:mnist.test.images,y_true:mnist.test.labels})))"
   ]
  },
  {
   "cell_type": "code",
   "execution_count": null,
   "metadata": {},
   "outputs": [],
   "source": []
  }
 ],
 "metadata": {
  "kernelspec": {
   "display_name": "Python 3",
   "language": "python",
   "name": "python3"
  },
  "language_info": {
   "codemirror_mode": {
    "name": "ipython",
    "version": 3
   },
   "file_extension": ".py",
   "mimetype": "text/x-python",
   "name": "python",
   "nbconvert_exporter": "python",
   "pygments_lexer": "ipython3",
   "version": "3.6.4"
  }
 },
 "nbformat": 4,
 "nbformat_minor": 2
}
