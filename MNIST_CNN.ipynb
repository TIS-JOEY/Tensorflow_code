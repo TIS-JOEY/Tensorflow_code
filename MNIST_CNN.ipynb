{
 "cells": [
  {
   "cell_type": "markdown",
   "metadata": {},
   "source": [
    "### 載入MNIST手寫數字數據集"
   ]
  },
  {
   "cell_type": "code",
   "execution_count": 41,
   "metadata": {},
   "outputs": [
    {
     "name": "stdout",
     "output_type": "stream",
     "text": [
      "Extracting MNIST_data/train-images-idx3-ubyte.gz\n",
      "Extracting MNIST_data/train-labels-idx1-ubyte.gz\n",
      "Extracting MNIST_data/t10k-images-idx3-ubyte.gz\n",
      "Extracting MNIST_data/t10k-labels-idx1-ubyte.gz\n"
     ]
    }
   ],
   "source": [
    "from tensorflow.examples.tutorials.mnist import input_data\n",
    "\n",
    "mnist = input_data.read_data_sets(\"MNIST_data/\",one_hot = True)"
   ]
  },
  {
   "cell_type": "code",
   "execution_count": null,
   "metadata": {},
   "outputs": [],
   "source": []
  },
  {
   "cell_type": "code",
   "execution_count": 42,
   "metadata": {},
   "outputs": [],
   "source": [
    "import tensorflow as tf"
   ]
  },
  {
   "cell_type": "markdown",
   "metadata": {},
   "source": [
    "### 定義卷積神經網路函式"
   ]
  },
  {
   "cell_type": "code",
   "execution_count": 43,
   "metadata": {},
   "outputs": [],
   "source": [
    "def conv2d(x,w):\n",
    "    return tf.nn.conv2d(x,w,strides = [1,1,1,1],padding = 'SAME')\n",
    "\n",
    "def maxpool2d(x):\n",
    "    return tf.nn.max_pool(x,ksize = [1,2,2,1],strides = [1,2,2,1],padding = 'SAME')\n",
    "\n",
    "def weight_variable(shape,name):\n",
    "    return tf.Variable(tf.truncated_normal(shape,stddev = 0.1),name = name)\n",
    "\n",
    "def bias_variable(shape,name):\n",
    "    return tf.Variable(tf.constant(0.1,shape = shape),name = name)"
   ]
  },
  {
   "cell_type": "code",
   "execution_count": null,
   "metadata": {},
   "outputs": [],
   "source": []
  },
  {
   "cell_type": "markdown",
   "metadata": {},
   "source": [
    "### 定義模型變數"
   ]
  },
  {
   "cell_type": "code",
   "execution_count": 44,
   "metadata": {},
   "outputs": [],
   "source": [
    "X = tf.placeholder(tf.float32,[None,784])\n",
    "y_true = tf.placeholder(tf.float32,[None,10])\n",
    "\n",
    "X_image = tf.reshape(X,[-1,28,28,1])"
   ]
  },
  {
   "cell_type": "code",
   "execution_count": null,
   "metadata": {},
   "outputs": [],
   "source": []
  },
  {
   "cell_type": "markdown",
   "metadata": {},
   "source": [
    "#### 定義第一層卷積"
   ]
  },
  {
   "cell_type": "code",
   "execution_count": 45,
   "metadata": {},
   "outputs": [],
   "source": [
    "w1 = weight_variable([5,5,1,32],'w1')\n",
    "b1 = bias_variable([32],'b1')\n",
    "conv1 = conv2d(X_image,w1)+b1\n",
    "conv1_with_act = tf.nn.relu(conv1)\n",
    "output1 = maxpool2d(conv1_with_act)"
   ]
  },
  {
   "cell_type": "code",
   "execution_count": null,
   "metadata": {},
   "outputs": [],
   "source": []
  },
  {
   "cell_type": "markdown",
   "metadata": {},
   "source": [
    "#### 定義第二層卷積"
   ]
  },
  {
   "cell_type": "code",
   "execution_count": 46,
   "metadata": {},
   "outputs": [],
   "source": [
    "w2 = weight_variable([5,5,32,64],'w2')\n",
    "b2 = bias_variable([64],'b2')\n",
    "conv2 = conv2d(output1,w2)+b2\n",
    "conv2_with_act = tf.nn.relu(conv2)\n",
    "output2 = maxpool2d(conv2_with_act)"
   ]
  },
  {
   "cell_type": "code",
   "execution_count": null,
   "metadata": {},
   "outputs": [],
   "source": []
  },
  {
   "cell_type": "markdown",
   "metadata": {},
   "source": [
    "#### 定義撫平層"
   ]
  },
  {
   "cell_type": "code",
   "execution_count": 47,
   "metadata": {},
   "outputs": [],
   "source": [
    "flatten_output = tf.reshape(output2,[-1,7*7*64])"
   ]
  },
  {
   "cell_type": "code",
   "execution_count": null,
   "metadata": {},
   "outputs": [],
   "source": []
  },
  {
   "cell_type": "markdown",
   "metadata": {},
   "source": [
    "#### 定義全連接層"
   ]
  },
  {
   "cell_type": "code",
   "execution_count": 48,
   "metadata": {},
   "outputs": [],
   "source": [
    "fc_w1 = weight_variable([7*7*64,1024],'fc_w1')\n",
    "fc_b1 = bias_variable([1024],'fc_b1')\n",
    "fc_o1 = tf.nn.relu(tf.matmul(flatten_output,fc_w1)+fc_b1)"
   ]
  },
  {
   "cell_type": "code",
   "execution_count": null,
   "metadata": {},
   "outputs": [],
   "source": []
  },
  {
   "cell_type": "markdown",
   "metadata": {},
   "source": [
    "### 定義Dropout"
   ]
  },
  {
   "cell_type": "code",
   "execution_count": 49,
   "metadata": {},
   "outputs": [],
   "source": [
    "keep_prob = tf.placeholder(tf.float32)\n",
    "fc_o1_with_dropout = tf.nn.dropout(fc_o1,keep_prob)"
   ]
  },
  {
   "cell_type": "markdown",
   "metadata": {},
   "source": [
    "#### 定義輸出層"
   ]
  },
  {
   "cell_type": "code",
   "execution_count": 50,
   "metadata": {},
   "outputs": [],
   "source": [
    "fc_w2 = weight_variable([1024,10],'fc_w2')\n",
    "fc_b2 = bias_variable([10],'fc_b2')\n",
    "fc_o2 = tf.matmul(fc_o1_with_dropout,fc_w2)+fc_b2"
   ]
  },
  {
   "cell_type": "code",
   "execution_count": null,
   "metadata": {},
   "outputs": [],
   "source": []
  },
  {
   "cell_type": "markdown",
   "metadata": {},
   "source": [
    "### 定義損失函數與優化器"
   ]
  },
  {
   "cell_type": "code",
   "execution_count": 51,
   "metadata": {},
   "outputs": [],
   "source": [
    "loss = tf.reduce_mean(tf.nn.softmax_cross_entropy_with_logits(logits = fc_o2,labels = y_true))\n",
    "opt = tf.train.AdamOptimizer(1e-4).minimize(loss)\n",
    "\n",
    "correct_prediction = tf.equal(tf.argmax(fc_o2,1),tf.arg_max(y_true,1))\n",
    "accuracy = tf.reduce_mean(tf.cast(correct_prediction,tf.float32))"
   ]
  },
  {
   "cell_type": "markdown",
   "metadata": {},
   "source": [
    "### 實例化與執行"
   ]
  },
  {
   "cell_type": "code",
   "execution_count": 53,
   "metadata": {},
   "outputs": [
    {
     "name": "stdout",
     "output_type": "stream",
     "text": [
      "Step:0,Accuracy:0.10000000149011612\n",
      "Step:100,Accuracy:0.9399999976158142\n",
      "Step:200,Accuracy:0.9100000262260437\n",
      "Step:300,Accuracy:0.9399999976158142\n",
      "Step:400,Accuracy:0.9300000071525574\n",
      "Step:500,Accuracy:0.9399999976158142\n",
      "Step:600,Accuracy:0.9599999785423279\n",
      "Step:700,Accuracy:0.949999988079071\n",
      "Step:800,Accuracy:0.9700000286102295\n",
      "Step:900,Accuracy:0.949999988079071\n",
      "Test Accuracy:0.9685999751091003\n"
     ]
    }
   ],
   "source": [
    "with tf.Session() as sess:\n",
    "    sess.run(tf.global_variables_initializer())\n",
    "    \n",
    "    for step in range(1000):\n",
    "        batch_x,batch_y = mnist.train.next_batch(100)\n",
    "        \n",
    "        if step % 100 == 0:\n",
    "            print(\"Step:{},Accuracy:{}\".format(step,accuracy.eval(feed_dict = {X:batch_x,y_true:batch_y,keep_prob:1.0})))\n",
    "        \n",
    "        sess.run(opt,feed_dict = {X:batch_x,y_true:batch_y,keep_prob:0.5})\n",
    "    \n",
    "    print(\"Test Accuracy:{}\".format(sess.run(accuracy,feed_dict = {X:mnist.test.images,y_true:mnist.test.labels,keep_prob:1.0})))"
   ]
  },
  {
   "cell_type": "code",
   "execution_count": null,
   "metadata": {},
   "outputs": [],
   "source": []
  }
 ],
 "metadata": {
  "kernelspec": {
   "display_name": "Python 3",
   "language": "python",
   "name": "python3"
  },
  "language_info": {
   "codemirror_mode": {
    "name": "ipython",
    "version": 3
   },
   "file_extension": ".py",
   "mimetype": "text/x-python",
   "name": "python",
   "nbconvert_exporter": "python",
   "pygments_lexer": "ipython3",
   "version": "3.6.4"
  }
 },
 "nbformat": 4,
 "nbformat_minor": 2
}
