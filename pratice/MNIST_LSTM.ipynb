{
 "cells": [
  {
   "cell_type": "markdown",
   "metadata": {},
   "source": [
    "### 載入MNIST手寫數字數據集"
   ]
  },
  {
   "cell_type": "code",
   "execution_count": 1,
   "metadata": {},
   "outputs": [
    {
     "name": "stderr",
     "output_type": "stream",
     "text": [
      "/anaconda3/lib/python3.6/site-packages/h5py/__init__.py:36: FutureWarning: Conversion of the second argument of issubdtype from `float` to `np.floating` is deprecated. In future, it will be treated as `np.float64 == np.dtype(float).type`.\n",
      "  from ._conv import register_converters as _register_converters\n"
     ]
    },
    {
     "name": "stdout",
     "output_type": "stream",
     "text": [
      "Extracting MNIST_data/train-images-idx3-ubyte.gz\n",
      "Extracting MNIST_data/train-labels-idx1-ubyte.gz\n",
      "Extracting MNIST_data/t10k-images-idx3-ubyte.gz\n",
      "Extracting MNIST_data/t10k-labels-idx1-ubyte.gz\n"
     ]
    }
   ],
   "source": [
    "from tensorflow.examples.tutorials.mnist import input_data\n",
    "\n",
    "mnist = input_data.read_data_sets(\"MNIST_data/\",one_hot = True)"
   ]
  },
  {
   "cell_type": "code",
   "execution_count": 2,
   "metadata": {},
   "outputs": [],
   "source": [
    "import tensorflow as tf"
   ]
  },
  {
   "cell_type": "markdown",
   "metadata": {},
   "source": [
    "### 定義模型函式"
   ]
  },
  {
   "cell_type": "code",
   "execution_count": 3,
   "metadata": {},
   "outputs": [],
   "source": [
    "def weight_variable(shape, name):\n",
    "    return tf.Variable(tf.truncated_normal(shape = shape,stddev = 0.1),name = name)\n",
    "\n",
    "def bias_variable(shape,name):\n",
    "    return tf.Variable(tf.constant(0.1,shape = shape),name = name)"
   ]
  },
  {
   "cell_type": "markdown",
   "metadata": {},
   "source": [
    "### 定義變數"
   ]
  },
  {
   "cell_type": "code",
   "execution_count": 5,
   "metadata": {},
   "outputs": [],
   "source": [
    "n_steps = 28\n",
    "n_input = 28\n",
    "n_hidden = 128\n",
    "n_classes = 10\n",
    "\n",
    "X = tf.placeholder(tf.float32,[None,n_steps,n_inputs])\n",
    "y_true = tf.placeholder(tf.float32,[None,n_classes])"
   ]
  },
  {
   "cell_type": "code",
   "execution_count": 6,
   "metadata": {},
   "outputs": [],
   "source": [
    "weight = weight_variable([n_hidden,n_classes],'w1')\n",
    "bias = bias_variable([n_classes],'b1')"
   ]
  },
  {
   "cell_type": "markdown",
   "metadata": {},
   "source": [
    "### reshape 輸入"
   ]
  },
  {
   "cell_type": "code",
   "execution_count": 8,
   "metadata": {},
   "outputs": [],
   "source": [
    "x_transpose = tf.transpose(X,[1,0,2])\n",
    "x_reshape = tf.reshape(x_transpose,[-1,n_input])\n",
    "x_split = tf.split(x_reshape,n_steps,0)"
   ]
  },
  {
   "cell_type": "markdown",
   "metadata": {},
   "source": [
    "### 定義模型"
   ]
  },
  {
   "cell_type": "code",
   "execution_count": 11,
   "metadata": {},
   "outputs": [],
   "source": [
    "from tensorflow.contrib import rnn\n",
    "\n",
    "lstm = rnn.BasicLSTMCell(n_hidden,forget_bias = 1.0)\n",
    "h, states = rnn.static_rnn(lstm,x_split,dtype = tf.float32)"
   ]
  },
  {
   "cell_type": "code",
   "execution_count": 13,
   "metadata": {},
   "outputs": [],
   "source": [
    "h_fc = tf.matmul(h[-1],weight)+bias"
   ]
  },
  {
   "cell_type": "markdown",
   "metadata": {},
   "source": [
    "### 損失函數與優化器"
   ]
  },
  {
   "cell_type": "code",
   "execution_count": 16,
   "metadata": {},
   "outputs": [],
   "source": [
    "loss = tf.nn.softmax_cross_entropy_with_logits(logits = h_fc,labels = y_true)\n",
    "opt = tf.train.AdamOptimizer(0.01).minimize(loss)\n",
    "\n",
    "correct_prediction = tf.equal(tf.argmax(h_fc,1),tf.argmax(y_true,1))\n",
    "accuracy = tf.reduce_mean(tf.cast(correct_prediction,tf.float32))"
   ]
  },
  {
   "cell_type": "markdown",
   "metadata": {},
   "source": [
    "### 實例化執行"
   ]
  },
  {
   "cell_type": "code",
   "execution_count": 19,
   "metadata": {},
   "outputs": [
    {
     "name": "stdout",
     "output_type": "stream",
     "text": [
      "Step:0,Accuracy:0.10000000149011612\n",
      "Step:1000,Accuracy:0.9599999785423279\n",
      "Step:2000,Accuracy:0.9800000190734863\n",
      "Step:3000,Accuracy:0.9900000095367432\n",
      "Step:4000,Accuracy:0.9800000190734863\n",
      "Step:5000,Accuracy:0.9900000095367432\n",
      "Step:6000,Accuracy:1.0\n",
      "Step:7000,Accuracy:0.9800000190734863\n",
      "Step:8000,Accuracy:1.0\n",
      "Step:9000,Accuracy:0.9900000095367432\n",
      "Step:10000,Accuracy:0.9900000095367432\n",
      "Step:11000,Accuracy:1.0\n",
      "Step:12000,Accuracy:0.9900000095367432\n",
      "Step:13000,Accuracy:0.9900000095367432\n",
      "Step:14000,Accuracy:0.9900000095367432\n",
      "Step:15000,Accuracy:0.9900000095367432\n",
      "Step:16000,Accuracy:0.9900000095367432\n",
      "Step:17000,Accuracy:0.9800000190734863\n",
      "Step:18000,Accuracy:0.9700000286102295\n",
      "Step:19000,Accuracy:0.9800000190734863\n",
      "Test Accuracy:0.9742000102996826\n"
     ]
    }
   ],
   "source": [
    "import numpy as np\n",
    "\n",
    "with tf.Session() as sess:\n",
    "    sess.run(tf.global_variables_initializer())\n",
    "    \n",
    "    for step in range(20000):\n",
    "        batchx,batchy = mnist.train.next_batch(100)\n",
    "        batchx = np.reshape(batchx,[100,n_steps,n_input])\n",
    "        if step%1000 == 0:\n",
    "            print(\"Step:{},Accuracy:{}\".format(step,accuracy.eval(feed_dict = {X:batchx,y_true:batchy})))\n",
    "        \n",
    "        sess.run(opt,feed_dict = {X:batchx,y_true:batchy})\n",
    "    \n",
    "    print(\"Test Accuracy:{}\".format(accuracy.eval(feed_dict = {X:np.reshape(mnist.test.images,[-1,28,28]),y_true:mnist.test.labels})))"
   ]
  },
  {
   "cell_type": "code",
   "execution_count": null,
   "metadata": {},
   "outputs": [],
   "source": []
  }
 ],
 "metadata": {
  "kernelspec": {
   "display_name": "Python 3",
   "language": "python",
   "name": "python3"
  },
  "language_info": {
   "codemirror_mode": {
    "name": "ipython",
    "version": 3
   },
   "file_extension": ".py",
   "mimetype": "text/x-python",
   "name": "python",
   "nbconvert_exporter": "python",
   "pygments_lexer": "ipython3",
   "version": "3.6.4"
  }
 },
 "nbformat": 4,
 "nbformat_minor": 2
}
